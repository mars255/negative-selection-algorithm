{
 "cells": [
  {
   "cell_type": "code",
   "execution_count": 23,
   "id": "cc0767bf-822a-400e-b348-0d4bbb5e248d",
   "metadata": {},
   "outputs": [],
   "source": [
    "import pandas as pd\n",
    "import subprocess\n",
    "from sklearn.model_selection import train_test_split\n",
    "import numpy as np\n",
    "from sklearn.metrics import accuracy_score, classification_report, confusion_matrix"
   ]
  },
  {
   "cell_type": "markdown",
   "id": "0c33df21-4e24-484b-8dbe-7a8f83b72e46",
   "metadata": {},
   "source": [
    "# Load dataset"
   ]
  },
  {
   "cell_type": "code",
   "execution_count": 5,
   "id": "ce8dc219-caef-4b00-a187-e20ad74c00e4",
   "metadata": {},
   "outputs": [],
   "source": [
    "file_path = 'breast-cancer-wisconsin.csv'\n",
    "df = pd.read_csv(file_path)"
   ]
  },
  {
   "cell_type": "code",
   "execution_count": 6,
   "id": "e2d65228-2c8b-4bf2-b4eb-fb5c0f0363b5",
   "metadata": {},
   "outputs": [],
   "source": [
    "df = df.drop('sample_code_number', axis=1)\n",
    "df['class'] = df['class'].replace({2: 0, 4: 1}) # Replace 2,4 with 0,1 for clarity\n",
    "df['bare_nuclei'] = pd.to_numeric(df['bare_nuclei'], errors='coerce') # Remove non numeric data (few rows)"
   ]
  },
  {
   "cell_type": "code",
   "execution_count": 7,
   "id": "157e878a-c375-4577-801c-88c2ae65ac7b",
   "metadata": {},
   "outputs": [
    {
     "name": "stdout",
     "output_type": "stream",
     "text": [
      "<class 'pandas.core.frame.DataFrame'>\n",
      "RangeIndex: 699 entries, 0 to 698\n",
      "Data columns (total 10 columns):\n",
      " #   Column                       Non-Null Count  Dtype  \n",
      "---  ------                       --------------  -----  \n",
      " 0   clump_thickness              699 non-null    int64  \n",
      " 1   uniformity_of_cell_size      699 non-null    int64  \n",
      " 2   uniformity_of_cell_shape     699 non-null    int64  \n",
      " 3   marginal_adhesion            699 non-null    int64  \n",
      " 4   single_epithelial_cell_size  699 non-null    int64  \n",
      " 5   bare_nuclei                  683 non-null    float64\n",
      " 6   bland_chromatin              699 non-null    int64  \n",
      " 7   normal_nucleoli              699 non-null    int64  \n",
      " 8   mitoses                      699 non-null    int64  \n",
      " 9   class                        699 non-null    int64  \n",
      "dtypes: float64(1), int64(9)\n",
      "memory usage: 54.7 KB\n",
      "<class 'pandas.core.frame.DataFrame'>\n",
      "Index: 458 entries, 0 to 695\n",
      "Data columns (total 10 columns):\n",
      " #   Column                       Non-Null Count  Dtype  \n",
      "---  ------                       --------------  -----  \n",
      " 0   clump_thickness              458 non-null    int64  \n",
      " 1   uniformity_of_cell_size      458 non-null    int64  \n",
      " 2   uniformity_of_cell_shape     458 non-null    int64  \n",
      " 3   marginal_adhesion            458 non-null    int64  \n",
      " 4   single_epithelial_cell_size  458 non-null    int64  \n",
      " 5   bare_nuclei                  444 non-null    float64\n",
      " 6   bland_chromatin              458 non-null    int64  \n",
      " 7   normal_nucleoli              458 non-null    int64  \n",
      " 8   mitoses                      458 non-null    int64  \n",
      " 9   class                        458 non-null    int64  \n",
      "dtypes: float64(1), int64(9)\n",
      "memory usage: 39.4 KB\n",
      "None\n"
     ]
    }
   ],
   "source": [
    "info = df.info()\n",
    "\n",
    "# Descriptive statistics\n",
    "describe = df.describe()\n",
    "\n",
    "# Check for missing values\n",
    "missing_values = df.isnull().sum()\n",
    "\n",
    "# Preview the first few rows\n",
    "head = df.head()\n",
    "\n",
    "print(df[df['class'] == 0].info())"
   ]
  },
  {
   "cell_type": "markdown",
   "id": "c9472e0d-7ea1-4a0c-94ae-451cf23fed6f",
   "metadata": {},
   "source": [
    "# Train-test split"
   ]
  },
  {
   "cell_type": "code",
   "execution_count": null,
   "id": "2a34ebd0-a36c-49c2-b1bc-15eb1e86fb7c",
   "metadata": {},
   "outputs": [],
   "source": [
    "self_data = df[df['class'] == 0]\n",
    "\n",
    "self_data_train, self_data_test = train_test_split(self_data, test_size=0.3, random_state=42)\n",
    "\n",
    "# Save self data in a csv that will be used by C++\n",
    "self_data_train.drop(\"class\", axis=1).to_csv(\"self_data.csv\", index=False, header=False)"
   ]
  },
  {
   "cell_type": "code",
   "execution_count": null,
   "id": "cff22364-5832-4e22-a935-ae767b811181",
   "metadata": {},
   "outputs": [],
   "source": [
    "# Create X test and y test\n",
    "non_self_data = df[df['class'] == 1]\n",
    "X = pd.concat([non_self_data, self_data_test], ignore_index=True)\n",
    "\n",
    "X_test = X.drop(columns=\"class\")\n",
    "y_test = X[\"class\"]"
   ]
  },
  {
   "cell_type": "markdown",
   "id": "46f28360-7894-4c36-bd2e-d6c205cd193b",
   "metadata": {},
   "source": [
    "# Testing detectors\n"
   ]
  },
  {
   "cell_type": "code",
   "execution_count": null,
   "id": "1c89ac8a-b415-40ea-a34d-97200b12ced6",
   "metadata": {},
   "outputs": [
    {
     "name": "stdout",
     "output_type": "stream",
     "text": [
      "Getting detectors...\n",
      "Detectors generated\n"
     ]
    }
   ],
   "source": [
    "def average_absolute_distance(row_df1, df2, threshold):\n",
    "    # Compute the absolute difference between row_df1 and each row in df2\n",
    "    distances = np.abs(df2 - row_df1) / len(row_df1)\n",
    "    # Sum the distances along the columns axis (axis=1)\n",
    "    row_distances = distances.sum(axis=1)\n",
    "    # Compute the average of these distances\n",
    "    avg_distance = row_distances.mean()\n",
    "    return 0 if avg_distance >= threshold else 1\n",
    "\n",
    "def train (train_threshold, n_detectors, min_val, max_val):\n",
    "    command = ['./detector', 'self_data.csv', 'detectors.csv', str(train_threshold), str(n_detectors),\n",
    "               str(min_val), str(max_val)]\n",
    "    print (\"Getting detectors...\")\n",
    "    result = subprocess.run(command, capture_output=True, text=True)\n",
    "    print (\"Detectors generated\")\n",
    "\n",
    "\n",
    "\n",
    "train (4, 100, 1, 10)"
   ]
  },
  {
   "cell_type": "code",
   "execution_count": null,
   "id": "8ddb8d73-bf1c-4fd7-b016-8c16f9415569",
   "metadata": {},
   "outputs": [
    {
     "name": "stdout",
     "output_type": "stream",
     "text": [
      "Accuracy: 0.9630606860158312\n",
      "              precision    recall  f1-score   support\n",
      "\n",
      "           0       0.98      0.92      0.95       138\n",
      "           1       0.96      0.99      0.97       241\n",
      "\n",
      "    accuracy                           0.96       379\n",
      "   macro avg       0.97      0.95      0.96       379\n",
      "weighted avg       0.96      0.96      0.96       379\n",
      "\n",
      "[[127  11]\n",
      " [  3 238]]\n"
     ]
    },
    {
     "data": {
      "image/png": "[encoded data removed]",
      "text/plain": [
       "<Figure size 600x500 with 2 Axes>"
      ]
     },
     "metadata": {},
     "output_type": "display_data"
    }
   ],
   "source": [
    "def test (test_threshold):\n",
    "\n",
    "    headers = [\n",
    "        'clump_thickness',\n",
    "        'uniformity_of_cell_size',\n",
    "        'uniformity_of_cell_shape',\n",
    "        'marginal_adhesion',\n",
    "        'single_epithelial_cell_size',\n",
    "        'bare_nuclei',\n",
    "        'bland_chromatin',\n",
    "        'normal_nucleoli',\n",
    "        'mitoses'\n",
    "    ]\n",
    "    \n",
    "    detectors = pd.read_csv(\"detectors.csv\", header=None)\n",
    "    detectors.columns = headers\n",
    "    \n",
    "    \n",
    "    y_pred = X_test.apply(lambda row: average_absolute_distance(row, detectors, test_threshold), axis=1)\n",
    "    # Accuracy\n",
    "    accuracy = accuracy_score(y_test, y_pred)\n",
    "    print(f\"Accuracy: {accuracy}\")\n",
    "    print(classification_report(y_test, y_pred))\n",
    "\n",
    "test(5.5)"
   ]
  }
 ],
 "metadata": {
  "kernelspec": {
   "display_name": "Python 3 (ipykernel)",
   "language": "python",
   "name": "python3"
  },
  "language_info": {
   "codemirror_mode": {
    "name": "ipython",
    "version": 3
   },
   "file_extension": ".py",
   "mimetype": "text/x-python",
   "name": "python",
   "nbconvert_exporter": "python",
   "pygments_lexer": "ipython3",
   "version": "3.12.7"
  }
 },
 "nbformat": 4,
 "nbformat_minor": 5
}
